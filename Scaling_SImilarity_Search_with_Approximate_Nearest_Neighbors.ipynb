{
  "nbformat": 4,
  "nbformat_minor": 0,
  "metadata": {
    "colab": {
      "name": "Scaling SImilarity Search with Approximate Nearest Neighbors.ipynb",
      "provenance": []
    },
    "kernelspec": {
      "name": "python3",
      "display_name": "Python 3"
    },
    "accelerator": "GPU"
  },
  "cells": [
    {
      "cell_type": "code",
      "metadata": {
        "id": "rrFauc2xDWYL"
      },
      "source": [
        "# Creating a synthetic dataset (million-item dataset composed of random floating point values with mean 0 and variance 1)"
      ],
      "execution_count": 2,
      "outputs": []
    },
    {
      "cell_type": "code",
      "metadata": {
        "id": "ll-n__NRDkX3"
      },
      "source": [
        "import numpy as np\n",
        "import random\n",
        "import time\n",
        "from sklearn.neighbors import NearestNeighbors"
      ],
      "execution_count": 3,
      "outputs": []
    },
    {
      "cell_type": "code",
      "metadata": {
        "id": "tTV7i_3OEhxY"
      },
      "source": [
        "num_items = 100000\n",
        "num_dimensions = 100\n",
        "dataset = np.random.randn(num_items, num_dimensions)\n",
        "dataset /= np.linalg.norm(dataset, axis=1).reshape(-1, 1)\n",
        "randomIndex = random.randint(0, num_items)\n",
        "query = dataset[randomIndex]"
      ],
      "execution_count": 4,
      "outputs": []
    },
    {
      "cell_type": "markdown",
      "metadata": {
        "id": "cs0B30YiJAUX"
      },
      "source": [
        " Using timit command  to benchmark the time of a single operation"
      ]
    },
    {
      "cell_type": "markdown",
      "metadata": {
        "id": "U7R7QgKZEzgw"
      },
      "source": [
        "Brute Force"
      ]
    },
    {
      "cell_type": "code",
      "metadata": {
        "colab": {
          "base_uri": "https://localhost:8080/"
        },
        "id": "8sOisi_YExo_",
        "outputId": "33c03809-b62c-4b6b-85c1-a491791a8046"
      },
      "source": [
        "# Time the indexing for the brute force algorithm\n",
        "%timeit NearestNeighbors(n_neighbors=5, algorithm='brute', metric='euclidean').fit(dataset)"
      ],
      "execution_count": 5,
      "outputs": [
        {
          "output_type": "stream",
          "text": [
            "100 loops, best of 3: 6.73 ms per loop\n"
          ],
          "name": "stdout"
        }
      ]
    },
    {
      "cell_type": "code",
      "metadata": {
        "colab": {
          "base_uri": "https://localhost:8080/"
        },
        "id": "ERPBdpOQE_fR",
        "outputId": "5137f9cf-cde9-4444-8193-8affd01573d0"
      },
      "source": [
        "# Time the search for the brute force algorithm\n",
        "neighbors = NearestNeighbors(n_neighbors=5,\n",
        "                             algorithm='brute',\n",
        "                             metric='euclidean').fit(dataset)\n",
        "%timeit neighbors.kneighbors([query])"
      ],
      "execution_count": 6,
      "outputs": [
        {
          "output_type": "stream",
          "text": [
            "10 loops, best of 3: 22.1 ms per loop\n"
          ],
          "name": "stdout"
        }
      ]
    },
    {
      "cell_type": "markdown",
      "metadata": {
        "id": "ahwXEswtFOAm"
      },
      "source": [
        "Annoy \n",
        "\n",
        "Approximate Nearest Neighbors Oh Yeah \n",
        "\n",
        "(released by Spotify and is used in production to serve their music recommendations.)"
      ]
    },
    {
      "cell_type": "code",
      "metadata": {
        "colab": {
          "base_uri": "https://localhost:8080/"
        },
        "id": "2iVSL-x2FRuS",
        "outputId": "021bc75d-3f0e-4091-d421-e4113ad63f57"
      },
      "source": [
        "pip install annoy"
      ],
      "execution_count": 7,
      "outputs": [
        {
          "output_type": "stream",
          "text": [
            "Requirement already satisfied: annoy in /usr/local/lib/python3.6/dist-packages (1.17.0)\n"
          ],
          "name": "stdout"
        }
      ]
    },
    {
      "cell_type": "code",
      "metadata": {
        "colab": {
          "base_uri": "https://localhost:8080/"
        },
        "id": "_ue1wnv-FTR8",
        "outputId": "b27dca65-d8bb-467f-98b2-149a6646d37f"
      },
      "source": [
        "from annoy import AnnoyIndex\n",
        "random_image_index = random.randint(0, num_items)\n",
        "annoy_index = AnnoyIndex(\n",
        "    num_dimensions)  # Length of item vector that will be indexed\n",
        "for i in range(num_items):\n",
        "    annoy_index.add_item(i, dataset[i])\n",
        "annoy_index.build(40)  #40 trees\n",
        "#Time the search for one image for Annoy\n",
        "%timeit annoy_index.get_nns_by_vector(query, 5, include_distances=True )"
      ],
      "execution_count": 8,
      "outputs": [
        {
          "output_type": "stream",
          "text": [
            "/usr/local/lib/python3.6/dist-packages/ipykernel_launcher.py:4: FutureWarning: The default argument for metric will be removed in future version of Annoy. Please pass metric='angular' explicitly.\n",
            "  after removing the cwd from sys.path.\n"
          ],
          "name": "stderr"
        },
        {
          "output_type": "stream",
          "text": [
            "10000 loops, best of 3: 31.3 µs per loop\n"
          ],
          "name": "stdout"
        }
      ]
    },
    {
      "cell_type": "markdown",
      "metadata": {
        "id": "o3Jk11s0Gpd3"
      },
      "source": [
        "That's way faster when compared to brute force! Even for this million item dataset, this can serve almost 28000 requests on a single CPU core. Considering most CPUs have multiple cores, it should be able to handle more than 100,000 requests on a single system. It also lets us share the same index in memory between multiple processes."
      ]
    },
    {
      "cell_type": "markdown",
      "metadata": {
        "id": "wPnn_D5tImYO"
      },
      "source": [
        "k-d Tree"
      ]
    },
    {
      "cell_type": "code",
      "metadata": {
        "colab": {
          "base_uri": "https://localhost:8080/"
        },
        "id": "g70Z3iX1Gdvv",
        "outputId": "7f94f742-5d9c-4900-9a30-8856ef39cb7d"
      },
      "source": [
        "# Time the indexing for the k-d tree algorithm\n",
        "%timeit NearestNeighbors(n_neighbors=5, algorithm='kd_tree').fit(dataset)"
      ],
      "execution_count": 9,
      "outputs": [
        {
          "output_type": "stream",
          "text": [
            "1 loop, best of 3: 1.49 s per loop\n"
          ],
          "name": "stdout"
        }
      ]
    },
    {
      "cell_type": "code",
      "metadata": {
        "colab": {
          "base_uri": "https://localhost:8080/"
        },
        "id": "wUqYq7aqIpbs",
        "outputId": "be96e3db-eaa3-4c34-9508-2e0bdc04cc60"
      },
      "source": [
        "# Time the search for the Ball Tree algorithm\n",
        "neighbors = NearestNeighbors(n_neighbors=5, algorithm='kd_tree').fit(dataset)\n",
        "%timeit neighbors.kneighbors([query])"
      ],
      "execution_count": 10,
      "outputs": [
        {
          "output_type": "stream",
          "text": [
            "10 loops, best of 3: 34.9 ms per loop\n"
          ],
          "name": "stdout"
        }
      ]
    },
    {
      "cell_type": "markdown",
      "metadata": {
        "id": "6raBIFD9Iwbf"
      },
      "source": [
        "Ball Tree"
      ]
    },
    {
      "cell_type": "code",
      "metadata": {
        "colab": {
          "base_uri": "https://localhost:8080/"
        },
        "id": "JDF5AnnNIvIg",
        "outputId": "85ff13a1-67fd-4f25-f4c8-6199ce2a3985"
      },
      "source": [
        "# Time the indexing for the Ball Tree algorithm\n",
        "%timeit NearestNeighbors(n_neighbors=5, algorithm='ball_tree').fit(dataset)"
      ],
      "execution_count": 11,
      "outputs": [
        {
          "output_type": "stream",
          "text": [
            "1 loop, best of 3: 1.09 s per loop\n"
          ],
          "name": "stdout"
        }
      ]
    },
    {
      "cell_type": "code",
      "metadata": {
        "colab": {
          "base_uri": "https://localhost:8080/"
        },
        "id": "rrOn18LmI5_X",
        "outputId": "80dfff65-0ee3-4ccb-a2ca-f80ce42722a0"
      },
      "source": [
        "# Time the search for the Ball Tree algorithm\n",
        "neighbors = NearestNeighbors(n_neighbors=5, algorithm='ball_tree').fit(dataset)\n",
        "%timeit neighbors.kneighbors([query])"
      ],
      "execution_count": 12,
      "outputs": [
        {
          "output_type": "stream",
          "text": [
            "10 loops, best of 3: 29.9 ms per loop\n"
          ],
          "name": "stdout"
        }
      ]
    },
    {
      "cell_type": "markdown",
      "metadata": {
        "id": "TTrqJ3YPJTJC"
      },
      "source": [
        "NMS Lib"
      ]
    },
    {
      "cell_type": "code",
      "metadata": {
        "colab": {
          "base_uri": "https://localhost:8080/"
        },
        "id": "yjinJxSWJ8u3",
        "outputId": "d24e2831-25c7-486a-d2f0-5358cb58764c"
      },
      "source": [
        "pip install nmslib"
      ],
      "execution_count": 13,
      "outputs": [
        {
          "output_type": "stream",
          "text": [
            "Requirement already satisfied: nmslib in /usr/local/lib/python3.6/dist-packages (2.0.11)\n",
            "Requirement already satisfied: numpy>=1.10.0; python_version >= \"3.5\" in /usr/local/lib/python3.6/dist-packages (from nmslib) (1.19.5)\n",
            "Requirement already satisfied: psutil in /usr/local/lib/python3.6/dist-packages (from nmslib) (5.4.8)\n",
            "Requirement already satisfied: pybind11>=2.2.3 in /usr/local/lib/python3.6/dist-packages (from nmslib) (2.6.1)\n"
          ],
          "name": "stdout"
        }
      ]
    },
    {
      "cell_type": "code",
      "metadata": {
        "id": "uyR-g9oZI8GB"
      },
      "source": [
        "import nmslib\n",
        "index = nmslib.init(method='hnsw', space='cosinesimil')\n",
        "index.addDataPointBatch(dataset)\n",
        "index.createIndex({'post': 2}, print_progress=True)"
      ],
      "execution_count": 14,
      "outputs": []
    },
    {
      "cell_type": "code",
      "metadata": {
        "colab": {
          "base_uri": "https://localhost:8080/"
        },
        "id": "m98KLbkLJ5AQ",
        "outputId": "41327b39-3b83-47e4-a3db-1e56c2aa6d3d"
      },
      "source": [
        "# query for the nearest neighbors of the first datapoint\n",
        "%timeit index.knnQuery(query, k=5)\n",
        "ids, distances = index.knnQuery(query, k=5)"
      ],
      "execution_count": 15,
      "outputs": [
        {
          "output_type": "stream",
          "text": [
            "The slowest run took 16.95 times longer than the fastest. This could mean that an intermediate result is being cached.\n",
            "10000 loops, best of 3: 30.5 µs per loop\n"
          ],
          "name": "stdout"
        }
      ]
    },
    {
      "cell_type": "code",
      "metadata": {
        "colab": {
          "base_uri": "https://localhost:8080/"
        },
        "id": "LCewdWy6KGhn",
        "outputId": "730d3e31-9352-4a6e-8240-e76724bb0031"
      },
      "source": [
        "# Get all nearest neighbors for all the datapoint\n",
        "%timeit index.knnQueryBatch(dataset, k=5, num_threads=16)\n",
        "neighbors = index.knnQueryBatch(dataset, k=5, num_threads=16)"
      ],
      "execution_count": 16,
      "outputs": [
        {
          "output_type": "stream",
          "text": [
            "1 loop, best of 3: 6.66 s per loop\n"
          ],
          "name": "stdout"
        }
      ]
    },
    {
      "cell_type": "markdown",
      "metadata": {
        "id": "v7sop6mbKKle"
      },
      "source": [
        "Falconn"
      ]
    },
    {
      "cell_type": "code",
      "metadata": {
        "colab": {
          "base_uri": "https://localhost:8080/"
        },
        "id": "d07cMJJCKMC9",
        "outputId": "049ebed7-c9cf-453a-e23b-db6c3fd68445"
      },
      "source": [
        "pip install falconn"
      ],
      "execution_count": 19,
      "outputs": [
        {
          "output_type": "stream",
          "text": [
            "Collecting falconn\n",
            "\u001b[?25l  Downloading https://files.pythonhosted.org/packages/96/b8/0d2c629d59398a7b3ed8726ce049abf6746bbf09d1ad15878d4fcf8048a6/FALCONN-1.3.1.tar.gz (1.4MB)\n",
            "\u001b[K     |████████████████████████████████| 1.4MB 9.0MB/s \n",
            "\u001b[?25hBuilding wheels for collected packages: falconn\n",
            "  Building wheel for falconn (setup.py) ... \u001b[?25l\u001b[?25hdone\n",
            "  Created wheel for falconn: filename=FALCONN-1.3.1-cp36-cp36m-linux_x86_64.whl size=10581238 sha256=911051e84c65feb2ad4fda5b3c3a7c74d0277e8e2bc8cb7e7404f17ad72a4b22\n",
            "  Stored in directory: /root/.cache/pip/wheels/bf/36/96/d5538901888620fc0343c1ed9d5f87fce00869e00c12056ef8\n",
            "Successfully built falconn\n",
            "Installing collected packages: falconn\n",
            "Successfully installed falconn-1.3.1\n"
          ],
          "name": "stdout"
        }
      ]
    },
    {
      "cell_type": "code",
      "metadata": {
        "colab": {
          "base_uri": "https://localhost:8080/"
        },
        "id": "nG6I8yF4KQzI",
        "outputId": "ce0fdf7b-86db-4ffe-ce69-8b538ff090e6"
      },
      "source": [
        "import falconn\n",
        "parameters = falconn.LSHConstructionParameters()\n",
        "num_tables = 1\n",
        "parameters.l = num_tables\n",
        "parameters.dimension = num_dimensions\n",
        "parameters.distance_function = falconn.DistanceFunction.EuclideanSquared\n",
        "parameters.lsh_family = falconn.LSHFamily.CrossPolytope\n",
        "parameters.num_rotations = 1\n",
        "parameters.num_setup_threads = 1\n",
        "parameters.storage_hash_table = falconn.StorageHashTable.BitPackedFlatHashTable\n",
        "falconn.compute_number_of_hash_functions(16, parameters)\n",
        "\n",
        "index = falconn.LSHIndex(parameters)\n",
        "%time index.setup(dataset)\n",
        "\n",
        "query_object = index.construct_query_object()\n",
        "num_probes = 1\n",
        "query_object.set_num_probes(num_probes)\n",
        "\n",
        "%timeit query_object.find_k_nearest_neighbors(query, 5)"
      ],
      "execution_count": 20,
      "outputs": [
        {
          "output_type": "stream",
          "text": [
            "CPU times: user 108 ms, sys: 0 ns, total: 108 ms\n",
            "Wall time: 108 ms\n",
            "The slowest run took 157.20 times longer than the fastest. This could mean that an intermediate result is being cached.\n",
            "100000 loops, best of 3: 3.74 µs per loop\n"
          ],
          "name": "stdout"
        }
      ]
    }
  ]
}